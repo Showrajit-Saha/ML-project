{
 "cells": [
  {
   "cell_type": "markdown",
   "id": "b8adad66",
   "metadata": {},
   "source": [
    "# KNN(K-Nearest Neighbor)"
   ]
  },
  {
   "cell_type": "code",
   "execution_count": 1,
   "id": "f75ba87c",
   "metadata": {},
   "outputs": [],
   "source": [
    "#Assigning feature and label\n",
    "Weather=['sunny','sunny','sunny','overcast','rainy','rainy','overcast','rainy','sunny','sunny'\n",
    "        \n",
    "        'rainy','sunny','overcast','overcast','rainy']"
   ]
  },
  {
   "cell_type": "code",
   "execution_count": null,
   "id": "a4793be1",
   "metadata": {},
   "outputs": [],
   "source": []
  }
 ],
 "metadata": {
  "kernelspec": {
   "display_name": "Python 3 (ipykernel)",
   "language": "python",
   "name": "python3"
  },
  "language_info": {
   "codemirror_mode": {
    "name": "ipython",
    "version": 3
   },
   "file_extension": ".py",
   "mimetype": "text/x-python",
   "name": "python",
   "nbconvert_exporter": "python",
   "pygments_lexer": "ipython3",
   "version": "3.9.7"
  }
 },
 "nbformat": 4,
 "nbformat_minor": 5
}
