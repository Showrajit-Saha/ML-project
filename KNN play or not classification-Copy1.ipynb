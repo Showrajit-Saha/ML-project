{
 "cells": [
  {
   "cell_type": "code",
   "execution_count": 1,
   "id": "1312ab9f",
   "metadata": {},
   "outputs": [],
   "source": [
    "#assunging feature and variable\n",
    "#first feature\n",
    "\n",
    "#using list  for creating file\n",
    "weather =['sunny','sunny','overcast','Rainy','Rainy','overcast',\n",
    "          'sunny','sunny','Rainy','sunny','overcast','overcast','Rainy','Rainy']\n",
    "  #weather and temp indifinte variable\n",
    "#sunny=2,overcast=1,Rainy=0\n"
   ]
  },
  {
   "cell_type": "code",
   "execution_count": 2,
   "id": "d6243a7b",
   "metadata": {},
   "outputs": [],
   "source": [
    "#second feature \n",
    "\n",
    "\n",
    "temp=['Hot','Hot','Hot','Mild','cool','cool','cool','Mild','cool','Mild',\n",
    "      'Mild','Mild','Hot','Mild']\n",
    "\n",
    "\n",
    "#Hot=0 ,Mild=1,Cool=2"
   ]
  },
  {
   "cell_type": "code",
   "execution_count": 3,
   "id": "8ecede48",
   "metadata": {},
   "outputs": [],
   "source": [
    "#label or target variable\n",
    "play=['No','No','Yes','Yes','Yes','No','Yes','No','Yes','Yes','Yes','Yes','Yes','No',]\n",
    "\n",
    "#0 means No 1 means Yes"
   ]
  },
  {
   "cell_type": "code",
   "execution_count": 4,
   "id": "602e067a",
   "metadata": {},
   "outputs": [],
   "source": [
    "#import lavel Encoder\n",
    "from sklearn import preprocessing"
   ]
  },
  {
   "cell_type": "code",
   "execution_count": 5,
   "id": "0ece0317",
   "metadata": {},
   "outputs": [],
   "source": [
    "#creating label Encoder\n",
    "\n",
    "le=preprocessing.LabelEncoder()\n",
    "weather_encoded=le.fit_transform(weather)"
   ]
  },
  {
   "cell_type": "code",
   "execution_count": 6,
   "id": "49929617",
   "metadata": {},
   "outputs": [
    {
     "data": {
      "text/plain": [
       "array([2, 2, 1, 0, 0, 1, 2, 2, 0, 2, 1, 1, 0, 0], dtype=int64)"
      ]
     },
     "execution_count": 6,
     "metadata": {},
     "output_type": "execute_result"
    }
   ],
   "source": [
    "weather_encoded"
   ]
  },
  {
   "cell_type": "code",
   "execution_count": 7,
   "id": "2bc98f3b",
   "metadata": {},
   "outputs": [],
   "source": [
    "#converting string label to number\n",
    "temp_encoded=le.fit_transform(temp)\n",
    "label_col=le.fit_transform(play)"
   ]
  },
  {
   "cell_type": "code",
   "execution_count": 8,
   "id": "acba2c3d",
   "metadata": {},
   "outputs": [
    {
     "data": {
      "text/plain": [
       "array([0, 0, 0, 1, 2, 2, 2, 1, 2, 1, 1, 1, 0, 1], dtype=int64)"
      ]
     },
     "execution_count": 8,
     "metadata": {},
     "output_type": "execute_result"
    }
   ],
   "source": [
    "temp_encoded"
   ]
  },
  {
   "cell_type": "code",
   "execution_count": 9,
   "id": "12f9c9cf",
   "metadata": {},
   "outputs": [
    {
     "data": {
      "text/plain": [
       "array([0, 0, 1, 1, 1, 0, 1, 0, 1, 1, 1, 1, 1, 0], dtype=int64)"
      ]
     },
     "execution_count": 9,
     "metadata": {},
     "output_type": "execute_result"
    }
   ],
   "source": [
    "label_col"
   ]
  },
  {
   "cell_type": "code",
   "execution_count": 10,
   "id": "82261cc2",
   "metadata": {},
   "outputs": [
    {
     "ename": "AttributeError",
     "evalue": "'numpy.ndarray' object has no attribute 'info'",
     "output_type": "error",
     "traceback": [
      "\u001b[1;31m---------------------------------------------------------------------------\u001b[0m",
      "\u001b[1;31mAttributeError\u001b[0m                            Traceback (most recent call last)",
      "\u001b[1;32m~\\AppData\\Local\\Temp/ipykernel_9416/2526107796.py\u001b[0m in \u001b[0;36m<module>\u001b[1;34m\u001b[0m\n\u001b[1;32m----> 1\u001b[1;33m \u001b[0mlabel_col\u001b[0m\u001b[1;33m.\u001b[0m\u001b[0minfo\u001b[0m\u001b[1;33m(\u001b[0m\u001b[1;33m)\u001b[0m\u001b[1;33m\u001b[0m\u001b[1;33m\u001b[0m\u001b[0m\n\u001b[0m",
      "\u001b[1;31mAttributeError\u001b[0m: 'numpy.ndarray' object has no attribute 'info'"
     ]
    }
   ],
   "source": [
    "label_col.info()"
   ]
  },
  {
   "cell_type": "code",
   "execution_count": 11,
   "id": "d5ed236c",
   "metadata": {},
   "outputs": [],
   "source": [
    "#zip function\n",
    "#combine weather and temparature\n",
    "\n",
    "features=list(zip(weather_encoded,temp_encoded))\n"
   ]
  },
  {
   "cell_type": "code",
   "execution_count": 12,
   "id": "7eb1207b",
   "metadata": {},
   "outputs": [
    {
     "data": {
      "text/plain": [
       "[(2, 0),\n",
       " (2, 0),\n",
       " (1, 0),\n",
       " (0, 1),\n",
       " (0, 2),\n",
       " (1, 2),\n",
       " (2, 2),\n",
       " (2, 1),\n",
       " (0, 2),\n",
       " (2, 1),\n",
       " (1, 1),\n",
       " (1, 1),\n",
       " (0, 0),\n",
       " (0, 1)]"
      ]
     },
     "execution_count": 12,
     "metadata": {},
     "output_type": "execute_result"
    }
   ],
   "source": [
    "features"
   ]
  },
  {
   "cell_type": "code",
   "execution_count": 13,
   "id": "0c65b239",
   "metadata": {},
   "outputs": [],
   "source": [
    "#import KNeighborsClassifier"
   ]
  },
  {
   "cell_type": "code",
   "execution_count": 14,
   "id": "c2ead200",
   "metadata": {},
   "outputs": [],
   "source": [
    "from sklearn.neighbors import KNeighborsClassifier\n",
    "model=KNeighborsClassifier(n_neighbors=3)"
   ]
  },
  {
   "cell_type": "code",
   "execution_count": 15,
   "id": "3fad2bad",
   "metadata": {},
   "outputs": [
    {
     "data": {
      "text/plain": [
       "KNeighborsClassifier(n_neighbors=3)"
      ]
     },
     "execution_count": 15,
     "metadata": {},
     "output_type": "execute_result"
    }
   ],
   "source": [
    "#train the model\n",
    "model.fit(features,label_col)"
   ]
  },
  {
   "cell_type": "code",
   "execution_count": 16,
   "id": "19a5e565",
   "metadata": {},
   "outputs": [],
   "source": [
    "#  predict=model.predict([[2,2]])\n",
    "# sunny=2,overcast=1,Rainy=0\n",
    "\n",
    "# Hot=0 ,Mild=1,Cool=2\n",
    "\n",
    "# 0 means No 1 means Yes"
   ]
  },
  {
   "cell_type": "code",
   "execution_count": 19,
   "id": "1911eae6",
   "metadata": {},
   "outputs": [
    {
     "name": "stdout",
     "output_type": "stream",
     "text": [
      "Enter weather feature 1 :3\n",
      "Enter weather  feature 2:5\n"
     ]
    }
   ],
   "source": [
    "n1=int(input('Enter weather feature 1 :'))\n",
    "n2=int(input('Enter weather  feature 2:'))"
   ]
  },
  {
   "cell_type": "code",
   "execution_count": 20,
   "id": "6232c57a",
   "metadata": {},
   "outputs": [],
   "source": [
    "predict=model.predict([[n1,n2]])"
   ]
  },
  {
   "cell_type": "code",
   "execution_count": 21,
   "id": "e99c5654",
   "metadata": {},
   "outputs": [
    {
     "data": {
      "text/plain": [
       "array([0], dtype=int64)"
      ]
     },
     "execution_count": 21,
     "metadata": {},
     "output_type": "execute_result"
    }
   ],
   "source": [
    "predict"
   ]
  },
  {
   "cell_type": "code",
   "execution_count": 22,
   "id": "cb9448a8",
   "metadata": {},
   "outputs": [
    {
     "name": "stdout",
     "output_type": "stream",
     "text": [
      "No\n"
     ]
    }
   ],
   "source": [
    "#if you play say Yes or do't play Not\n",
    "if predict==0:\n",
    "    print('No')\n",
    "    \n",
    "        \n",
    "\n",
    "\n",
    "else:\n",
    "    print('Yes')"
   ]
  },
  {
   "cell_type": "code",
   "execution_count": null,
   "id": "baae7988",
   "metadata": {},
   "outputs": [],
   "source": []
  }
 ],
 "metadata": {
  "kernelspec": {
   "display_name": "Python 3 (ipykernel)",
   "language": "python",
   "name": "python3"
  },
  "language_info": {
   "codemirror_mode": {
    "name": "ipython",
    "version": 3
   },
   "file_extension": ".py",
   "mimetype": "text/x-python",
   "name": "python",
   "nbconvert_exporter": "python",
   "pygments_lexer": "ipython3",
   "version": "3.9.7"
  }
 },
 "nbformat": 4,
 "nbformat_minor": 5
}
